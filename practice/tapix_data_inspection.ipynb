{
 "cells": [
  {
   "cell_type": "code",
   "execution_count": 1,
   "id": "ebc46739",
   "metadata": {},
   "outputs": [],
   "source": [
    "import pandas as pd"
   ]
  },
  {
   "cell_type": "code",
   "execution_count": 4,
   "id": "8b75ca5d",
   "metadata": {},
   "outputs": [],
   "source": [
    "df = pd.read_csv('modified_tapix_categorization_sample.csv')"
   ]
  },
  {
   "cell_type": "code",
   "execution_count": 5,
   "id": "db0b276e",
   "metadata": {},
   "outputs": [
    {
     "data": {
      "text/html": [
       "<div>\n",
       "<style scoped>\n",
       "    .dataframe tbody tr th:only-of-type {\n",
       "        vertical-align: middle;\n",
       "    }\n",
       "\n",
       "    .dataframe tbody tr th {\n",
       "        vertical-align: top;\n",
       "    }\n",
       "\n",
       "    .dataframe thead th {\n",
       "        text-align: right;\n",
       "    }\n",
       "</style>\n",
       "<table border=\"1\" class=\"dataframe\">\n",
       "  <thead>\n",
       "    <tr style=\"text-align: right;\">\n",
       "      <th></th>\n",
       "      <th>merchant_name</th>\n",
       "      <th>merchant_url</th>\n",
       "      <th>merchant_category</th>\n",
       "      <th>merchant_tags</th>\n",
       "    </tr>\n",
       "  </thead>\n",
       "  <tbody>\n",
       "    <tr>\n",
       "      <th>0</th>\n",
       "      <td>Veski KÕRTS</td>\n",
       "      <td>http://veskikorts.ee/</td>\n",
       "      <td>Food And Drink</td>\n",
       "      <td>'{\"Restaurant\"}'</td>\n",
       "    </tr>\n",
       "    <tr>\n",
       "      <th>1</th>\n",
       "      <td>Livedale</td>\n",
       "      <td>https://www.livedale.co.uk/</td>\n",
       "      <td>House And Garden</td>\n",
       "      <td>'{\"Furniture\",\"Household Equipment\"}'</td>\n",
       "    </tr>\n",
       "    <tr>\n",
       "      <th>2</th>\n",
       "      <td>Locke Burger</td>\n",
       "      <td>http://lockeburger.ie/</td>\n",
       "      <td>Food And Drink</td>\n",
       "      <td>'{\"Restaurant\"}'</td>\n",
       "    </tr>\n",
       "    <tr>\n",
       "      <th>3</th>\n",
       "      <td>Prodcom Mixt</td>\n",
       "      <td>https://www.listafirme.ro/prodcom-mixt-srl-135...</td>\n",
       "      <td>Groceries</td>\n",
       "      <td>'{\"Groceries - Other\"}'</td>\n",
       "    </tr>\n",
       "    <tr>\n",
       "      <th>4</th>\n",
       "      <td>Smullende Steven</td>\n",
       "      <td>http://www.smullendesteven.nl/</td>\n",
       "      <td>Groceries</td>\n",
       "      <td>'{\"Groceries - Other\",\"Bakery\"}'</td>\n",
       "    </tr>\n",
       "  </tbody>\n",
       "</table>\n",
       "</div>"
      ],
      "text/plain": [
       "      merchant_name                                       merchant_url  \\\n",
       "0       Veski KÕRTS                              http://veskikorts.ee/   \n",
       "1          Livedale                        https://www.livedale.co.uk/   \n",
       "2      Locke Burger                             http://lockeburger.ie/   \n",
       "3      Prodcom Mixt  https://www.listafirme.ro/prodcom-mixt-srl-135...   \n",
       "4  Smullende Steven                     http://www.smullendesteven.nl/   \n",
       "\n",
       "  merchant_category                          merchant_tags  \n",
       "0    Food And Drink                       '{\"Restaurant\"}'  \n",
       "1  House And Garden  '{\"Furniture\",\"Household Equipment\"}'  \n",
       "2    Food And Drink                       '{\"Restaurant\"}'  \n",
       "3         Groceries                '{\"Groceries - Other\"}'  \n",
       "4         Groceries       '{\"Groceries - Other\",\"Bakery\"}'  "
      ]
     },
     "execution_count": 5,
     "metadata": {},
     "output_type": "execute_result"
    }
   ],
   "source": [
    "df.head()"
   ]
  },
  {
   "cell_type": "code",
   "execution_count": null,
   "id": "e5f2b55c",
   "metadata": {},
   "outputs": [],
   "source": [
    "# remove http and www and '{\" \"}'"
   ]
  }
 ],
 "metadata": {
  "kernelspec": {
   "display_name": "Python 3 (ipykernel)",
   "language": "python",
   "name": "python3"
  },
  "language_info": {
   "codemirror_mode": {
    "name": "ipython",
    "version": 3
   },
   "file_extension": ".py",
   "mimetype": "text/x-python",
   "name": "python",
   "nbconvert_exporter": "python",
   "pygments_lexer": "ipython3",
   "version": "3.9.7"
  }
 },
 "nbformat": 4,
 "nbformat_minor": 5
}
