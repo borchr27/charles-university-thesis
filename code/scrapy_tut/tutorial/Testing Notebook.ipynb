{
 "cells": [
  {
   "cell_type": "code",
   "execution_count": 2,
   "id": "047039f2",
   "metadata": {},
   "outputs": [],
   "source": [
    "import thesis_utils as tu\n",
    "import pandas as pd\n",
    "import matplotlib.pyplot as plt\n",
    "import numpy as np\n",
    "import os\n",
    "import re\n",
    "from sklearn.linear_model import LogisticRegression\n",
    "from sklearn.ensemble import RandomForestClassifier\n",
    "from sklearn.svm import LinearSVC\n",
    "from sklearn.naive_bayes import MultinomialNB\n",
    "from sklearn.model_selection import cross_val_score\n",
    "import seaborn as sns\n",
    "from analysis import data_prep\n",
    "from sklearn.model_selection import train_test_split\n",
    "from sklearn.ensemble import GradientBoostingClassifier\n",
    "from sklearn.neural_network import MLPClassifier\n",
    "from sklearn.svm import SVC\n",
    "from sklearn.metrics.pairwise import pairwise_kernels\n",
    "from sklearn.preprocessing import LabelEncoder"
   ]
  },
  {
   "cell_type": "code",
   "execution_count": null,
   "id": "3cd43c83",
   "metadata": {},
   "outputs": [],
   "source": [
    "data = tu.Dataset()\n",
    "td_df = data.translated_data\n",
    "sd_df = data.site_data"
   ]
  },
  {
   "cell_type": "code",
   "execution_count": null,
   "id": "e3016aa8",
   "metadata": {},
   "outputs": [],
   "source": [
    "m_df = pd.merge(td_df[['site_data_id', 'original_language']], sd_df[['id', 'category','origin']], left_on='site_data_id', right_on='id')\n",
    "original = m_df[m_df['origin']=='original']\n",
    "additional = m_df[m_df['origin']=='additional']\n"
   ]
  },
  {
   "cell_type": "code",
   "execution_count": null,
   "id": "e6364e40",
   "metadata": {},
   "outputs": [],
   "source": [
    "X, y, vectorizer = data_prep(data)\n",
    "le = LabelEncoder()\n",
    "y = le.fit_transform(y)\n",
    "train_X, test_X, train_y, test_y = train_test_split(X, y, test_size=0.25, random_state=42, stratify=y)\n",
    "\n",
    "models = [\n",
    "    LinearSVC(),\n",
    "    MLPClassifier(random_state=1, max_iter=500, hidden_layer_sizes=1000),\n",
    "    SVC(kernel='precomputed'),\n",
    "    GradientBoostingClassifier(n_estimators=100, learning_rate=1.0, max_depth=1, random_state=0),\n",
    "    LogisticRegression(random_state=0),\n",
    "    MultinomialNB(),\n",
    "    RandomForestClassifier(n_estimators=200, max_depth=3, random_state=0),\n",
    "]\n",
    "\n",
    "CV = 5\n",
    "cv_df = pd.DataFrame(index=range(CV * len(models)))\n",
    "entries = []\n",
    "for model in models:\n",
    "    model_name = model.__class__.__name__\n",
    "    if model_name == 'SVC':\n",
    "        train_X_cosine = pairwise_kernels(train_X, metric='cosine')\n",
    "        accuracies = cross_val_score(model, train_X_cosine, train_y, scoring='accuracy', cv=CV)\n",
    "    else:\n",
    "        accuracies = cross_val_score(model, train_X, train_y, scoring='accuracy', cv=CV)\n",
    "    for fold_idx, accuracy in enumerate(accuracies):\n",
    "        entries.append((model_name, fold_idx, accuracy))\n",
    "\n",
    "cv_df = pd.DataFrame(entries, columns=['Classifier', 'fold_idx', 'Accuracy'])\n",
    "sns.boxplot(x='Classifier', y='Accuracy', data=cv_df)\n",
    "# sns.stripplot(x='Classifier', y='Accuracy', data=cv_df, \n",
    "#         size=5, jitter=True, edgecolor=\"gray\", linewidth=1)\n",
    "# change sns x axis labels to be more readable\n",
    "plt.xticks(rotation=90)\n",
    "plt.tight_layout()\n",
    "plt.savefig('plot_explore_classifiers.pdf')"
   ]
  },
  {
   "cell_type": "code",
   "execution_count": null,
   "id": "3448657f",
   "metadata": {},
   "outputs": [],
   "source": [
    "print(cv_df.groupby('model_name').accuracy.mean())\n",
    "# data_df = pd.merge(td_df[['site_data_id', 'original_language']], sd_df[['id', 'category', 'origin']], left_on='site_data_id', right_on='id')\n",
    "# filtered_df.groupby('category').count()\n",
    "# original['category'].value_counts()"
   ]
  },
  {
   "cell_type": "code",
   "execution_count": null,
   "id": "4775c3c5",
   "metadata": {},
   "outputs": [],
   "source": [
    "original = m_df[(m_df['origin'] == 'original') & (m_df['original_language'] == 'en')]\n",
    "categories = m_df['category'].unique()\n",
    "\n",
    "fig, ax = plt.subplots(figsize=(10, 6))\n",
    "bar_width = 1\n",
    "opacity = 0.5\n",
    "\n",
    "df1_c = original['category'].value_counts()\n",
    "# Add missing categories and fill with zeros\n",
    "missing_categories = set(categories) - set(df1_c.index)\n",
    "for category in missing_categories:\n",
    "    df1_c = df1_c.append(pd.Series([0], index=[category]))\n",
    "# Sort by category\n",
    "df1_c = df1_c.sort_index()\n",
    "category_labels = sorted(categories, key=lambda s: s.split()[0])\n",
    "ax.bar(df1_c.index, df1_c.values, bar_width, alpha=opacity, color='b', label='Original Data')\n",
    "ax.set_xlabel('Categories')\n",
    "ax.set_ylabel('Count')\n",
    "ax.set_xticks(np.arange(len(categories)))\n",
    "ax.set_xticklabels(category_labels, rotation=90, fontsize=8)\n",
    "ax.legend()\n",
    "fig.tight_layout()\n",
    "plt.show()\n",
    "plt.close(fig)\n",
    "\n",
    "# df1_c shows counts for the plot sum is 275"
   ]
  },
  {
   "cell_type": "code",
   "execution_count": null,
   "id": "42d76c5d",
   "metadata": {},
   "outputs": [],
   "source": [
    "# print(df1_c['category'].value_counts())\n",
    "# print(df1_c['category'].value_counts().sum())\n",
    "df1_c\n",
    "df1_c.sum()"
   ]
  },
  {
   "cell_type": "code",
   "execution_count": null,
   "id": "dad72b56",
   "metadata": {},
   "outputs": [],
   "source": []
  },
  {
   "cell_type": "code",
   "execution_count": null,
   "id": "f05ca55a",
   "metadata": {},
   "outputs": [],
   "source": []
  }
 ],
 "metadata": {
  "kernelspec": {
   "display_name": "Python 3 (ipykernel)",
   "language": "python",
   "name": "python3"
  },
  "language_info": {
   "codemirror_mode": {
    "name": "ipython",
    "version": 3
   },
   "file_extension": ".py",
   "mimetype": "text/x-python",
   "name": "python",
   "nbconvert_exporter": "python",
   "pygments_lexer": "ipython3",
   "version": "3.9.7"
  }
 },
 "nbformat": 4,
 "nbformat_minor": 5
}
